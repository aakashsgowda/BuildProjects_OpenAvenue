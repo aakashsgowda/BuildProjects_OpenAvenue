{
 "cells": [
  {
   "cell_type": "markdown",
   "metadata": {},
   "source": [
    "# Prompt-Based Field Extraction with Groq LLaMA-3.1\n",
    "\n",
    "This notebook extracts structured fields from radiology reports using a large language model (LLaMA-3.1-8B-Instant) via Groq API and LangChain."
   ]
  },
  {
   "cell_type": "code",
   "execution_count": 1,
   "metadata": {},
   "outputs": [],
   "source": [
    "# ==================== SETUP ====================\n",
    "import pandas as pd\n",
    "import nest_asyncio\n",
    "import asyncio\n",
    "from dotenv import load_dotenv\n",
    "from langchain_groq import ChatGroq\n",
    "from langchain_core.prompts import ChatPromptTemplate\n",
    "from pydantic import BaseModel, Field\n",
    "from langchain_core.output_parsers import PydanticOutputParser\n",
    "from tqdm import tqdm\n",
    "\n",
    "load_dotenv()\n",
    "nest_asyncio.apply()"
   ]
  },
  {
   "cell_type": "code",
   "execution_count": 2,
   "metadata": {},
   "outputs": [],
   "source": [
    "# ==================== LOAD DATA ====================\n",
    "import pandas as pd\n",
    "\n",
    "# Read and keep only non-null ReportText rows\n",
    "df = pd.read_csv(\"open_ave_data.csv\")\n",
    "df = df[[\"ReportText\"]].dropna().reset_index(drop=True)\n",
    "# Turn that column into a list of texts\n",
    "texts = df[\"ReportText\"].tolist()\n",
    "texts = texts[:30]\n"
   ]
  },
  {
   "cell_type": "code",
   "execution_count": 3,
   "metadata": {},
   "outputs": [],
   "source": [
    "# ==================== DEFINE OUTPUT SCHEMA ====================\n",
    "class FieldsExtraction(BaseModel):\n",
    "    findings: str = Field(description=\"Radiologist's technical observations\")\n",
    "    clinicaldata: str = Field(description=\"Reason for examination\")\n",
    "    ExamName: str = Field(description=\"Exam type and date\")\n",
    "    impression: str = Field(description=\"Final diagnosis or summary\")\n",
    "\n",
    "output_parser = PydanticOutputParser(pydantic_object=FieldsExtraction)\n",
    "format_instructions = output_parser.get_format_instructions()"
   ]
  },
  {
   "cell_type": "code",
   "execution_count": 4,
   "metadata": {},
   "outputs": [],
   "source": [
    "# ==================== SETUP PROMPT + LLM ====================\n",
    "llm = ChatGroq(model=\"llama-3.1-8b-instant\")\n",
    "prompt = ChatPromptTemplate.from_messages([\n",
    "    (\"system\", \"\"\"You are a helpful medical data extraction assistant. \n",
    "\n",
    "From the given \\\"Report Text\\\", extract the following fields and return ONLY a JSON object, and nothing else. \n",
    "Use the format described in {format_instructions}.\n",
    "Return exactly this structure:\n",
    "\n",
    "Only return a JSON object with the following fields:\n",
    "\n",
    "### Fields to be extracted:\n",
    "- findings\n",
    "- clinicaldata\n",
    "- ExamName\n",
    "- impression\n",
    "\n",
    "### Example:\n",
    "\n",
    "Input:\n",
    "EXAM: CHEST RADIOGRAPHY EXAM DATE: 06/01/2019 08:30 PM. CLINICAL HISTORY: Cough. COMPARISON: None. TECHNIQUE: 2 views. FINDINGS: Lungs/Pleura: No focal opacities evident. No pleural effusion. No pneumothorax. Normal volumes. Mediastinum: Heart and mediastinal contours are unremarkable. Other: None. IMPRESSION: Normal 2-view chest radiography Dictated by: [[PERSONALNAME]] on 06/01/2019 08:42 PM. Electronically signed by: [[PERSONALNAME]] on 06/01/2019 08:43 PM.\n",
    "\n",
    "Extracted:\n",
    "findings = FINDINGS: Lungs/Pleura: No focal opacities evident. No pleural effusion. No pneumothorax. Normal volumes. Mediastinum: Heart and mediastinal contours are unremarkable. Other: None.  \n",
    "clinicaldata = CLINICAL HISTORY: Cough.  \n",
    "ExamName = EXAM: CHEST RADIOGRAPHY EXAM DATE: 06/01/2019 08:30 PM. TECHNIQUE: 2 views. COMPARISON: None.  \n",
    "impression = IMPRESSION: Normal 2-view chest radiography    Dictated by: [[PERSONALNAME]] on 06/01/2019 08:42 PM. Electronically signed by: [[PERSONALNAME]] on 06/01/2019 08:43 PM.\n",
    "\n",
    "### NOTE: Return all fields as flat strings - do not nest them or break into subfields like 'examdate' or 'examname'. Return 'ExamName' as a single string, just as found in the report.\n",
    "\"\"\"),\n",
    "    (\"user\", \"{input}\")\n",
    "])\n",
    "\n",
    "chain = prompt | llm | output_parser"
   ]
  },
  {
   "cell_type": "code",
   "execution_count": 5,
   "metadata": {},
   "outputs": [
    {
     "name": "stdout",
     "output_type": "stream",
     "text": [
      "[12] → findings='FINDINGS: Lungs/Pleura: No focal opacities evident. No pleural effusion. No pneumothorax. Normal volumes. Mediastinum: Heart and mediastinal contours are unremarkable. Other: None.' clinicaldata='CLINICAL HISTORY: CHEST PAIN.' ExamName='EXAM: CHEST RADIOGRAPHY EXAM DATE: 02/02/2020 08:20 PM. COMPARISON: None. TECHNIQUE: 2 views.' impression='IMPRESSION: Normal 2-view chest radiography.'\n",
      "[25] → findings='The lungs are clear. There is no effusion, consolidation, or pneumothorax. The cardiomediastinal silhouette is within normal limits. No acute osseous abnormalities.' clinicaldata='___M with chest pain // eval for acute process' ExamName='PA and lateral views of the chest.' impression='No acute cardiopulmonary process.'\n",
      "[15] → findings='The heart, mediastinum, and pulmonary vasculature are normal. No lung consolidation or pleural effusions are present.' clinicaldata='cough, SOB' ExamName='Two View Chest Radiographs EXAM DATE: 08/03/2020 5:12 PM TECHNIQUE: Frontal and lateral views INDICATION: cough, SOB COMPARISON: None ENCOUNTER: Not applicable' impression='No acute pulmonary disease. Dictated by:  on 08/03/2020 5:22 PM. Electronically signed by:  on 08/03/2020 5:22 PM.'\n",
      "[24] → findings='Heart, lungs and vessels normal. No pneumothorax, pleural effusion or adenopathy. No significant bone abnormality.' clinicaldata='Cough for three days.' ExamName='CHEST TWO VIEWS CLINICAL INFORMATION: Cough for three days. COMPARISON: CHEST 2 VWS dated 08/17/2008' impression='Negative chest. Signed by: [[PERSONALNAME]]'\n",
      "[20] → findings='Lungs/Pleura: No focal opacities evident. No pleural effusion. No pneumothorax. Mediastinum: Within exam limitations, the cardiomediastinal contour is normal. Other: None.' clinicaldata='Fever, cough' ExamName='EXAM: CHEST RADIOGRAPHY EXAM DATE: 09/16/2021 03:34 PM' impression='No acute cardiopulmonary process.'\n",
      "[9] → findings='The mediastinal and cardiac silhouettes are normal. The lungs are clear. No pleural effusion or pneumothorax is seen. The osseous structures are intact.' clinicaldata='Chest pain.' ExamName='EXAM: CHEST RADIOGRAPHY EXAM DATE: 10/22/2020 02:08 AM. CLINICAL HISTORY: Chest pain. COMPARISON: None. TECHNIQUE: 1 view.' impression='Clear lungs.'\n",
      "[11] → findings='The cardiomediastinal silhouette is normal in size. There is no consolidation or atelectasis in either lung. There are no pleural effusions. There is no pneumothorax. No acute osseous process.' clinicaldata='Shortness of breath' ExamName='EXAM: XR CHEST 1 view INDICATION: Shortness of breath. TECHNIQUE: Frontal chest was obtained at [ID] hours. COMPARISON: None available.' impression='1. No acute pulmonary infiltrate. Signed by [[PERSONALNAME]]'\n",
      "[28] → findings='Endotracheal tube, NG tube, and right venous catheter remain in place. Heart size is stable. Atelectatic changes persist within the retrocardiac left lower lobe. No new abnormality. Bony structures are unchanged.' clinicaldata='History: VENT' ExamName='Exam: CHEST AP (1 VIEW) History: VENT Comparison: Yesterday' impression='Stable chest. Electronically Signed by: [[PERSONALNAME], MD'\n",
      "[14] → findings='No lines or tubes. The lungs are well-inflated and clear. No pneumothorax or pleural effusion. The cardiomediastinal silhouette is normal. The bones and soft tissues are unremarkable.' clinicaldata='Shortness Of Breath: SOB and difficulty breathing x 3 days.' ExamName='EXAM: CHEST 1 VIEW' impression='No acute cardiopulmonary abnormality.'\n",
      "[6] → findings='Stable support devices. Stable heart size and small effusions. Slightly decreased lung volumes with decreased atelectasis. No pneumothorax or other acute interval complication. Remaining visible anatomy stable.' clinicaldata='Respiratory distress or failure requiring intubation with or without ventilator support.' ExamName='Exam: XR CHEST AP OR PA ONLY INDICATION:' impression='Slightly decreased lung volumes.'\n",
      "[7] → findings='2 views. Heart size appears normal. Lungs clear.' clinicaldata='ACUTE BRONCHITIS' ExamName='Exam: CR CHEST 2 VIEWS History: ACUTE BRONCHITIS Views of the chest Comparison: None' impression='Lungs clear. Electronically Signed by: [[PERSONALNAME], MD'\n",
      "[27] → findings='Lungs/Pleura: No focal opacities evident. No pleural effusion. No pneumothorax. Mediastinum: Within exam limitations, the cardiomediastinal contour is normal. Other: None.' clinicaldata='Chest pain.' ExamName='EXAM: CHEST RADIOGRAPHY EXAM DATE: 05/28/2021 04:15 PM.' impression='No acute cardiopulmonary process.'\n",
      "[17] → findings='The cardiomediastinal silhouette is normal in size. There is no consolidation or atelectasis in either lung. There are no pleural effusions. There is no pneumothorax. No acute osseous process.' clinicaldata='Shortness of breath, dizziness, and cough.' ExamName='EXAM: XR CHEST 2 VIEWS INDICATION: Shortness of breath, dizziness, and cough. TECHNIQUE: Frontal and lateral chest. COMPARISON: None Available.' impression='No acute cardiopulmonary abnormality.'\n",
      "[13] → findings='The cardiomediastinal silhouette is normal in size. There is no consolidation or atelectasis in either lung. There are no pleural effusions. There is no pneumothorax. No acute osseous process.' clinicaldata='Shortness of breath for four days.' ExamName='EXAM: XR CHEST 2 VIEWS' impression='No acute cardiopulmonary abnormality.'\n",
      "[29] → findings='Lungs/Pleura: No focal opacities evident. No pleural effusion. No pneumothorax. Mediastinum: Within exam limitations, the cardiomediastinal contour is normal. Other: None.' clinicaldata='CLINICAL HISTORY: CHEST PAIN.' ExamName='EXAM: CHEST RADIOGRAPHY EXAM DATE: 05/05/2020 01:08 PM.' impression='IMPRESSION: Normal single view chest.'\n",
      "[4] → findings='Lungs/Pleura: No focal opacities evident. No pleural effusion. No pneumothorax. Mediastinum: Within exam limitations, the cardiomediastinal contour is normal. Other: None.' clinicaldata='CLINICAL HISTORY: CHEST PAIN, SHORTNESS OF BREATH' ExamName='EXAM: CHEST RADIOGRAPHY EXAM DATE: 06/17/2021 03:09 PM. CLINICAL HISTORY: CHEST PAIN, SHORTNESS OF BREATH. COMPARISON: XR CHEST AP PORTABLE 06/20/2021 9:37 AM. TECHNIQUE: 1 view' impression='IMPRESSION: Normal single view chest'\n",
      "[23] → findings='Persistent pulmonary vascular congestion, bibasilar airspace disease, and trace effusions. Allowing for differences in technique, the visualized portions of the radiopaque support lines/tubes demonstrate no significant interval change in position since prior study. Within the limitations of this non-upright examination, there is no evidence of pneumothorax.' clinicaldata='' ExamName='Exam: XR CHEST AP OR PA ONLY INDICATION: Dyspnea TECHNIQUE: Single view chest radiograph submitted for interpretation. COMPARISON: Yesterday' impression='1. Persistent pulmonary vascular congestion, bibasilar airspace disease, and trace effusions.'\n",
      "[21] → findings='The heart size and mediastinal contours are within normal limits. Both lungs are clear. The visualized skeletal structures are unremarkable.' clinicaldata='Chest pain' ExamName='CHEST 2 VIEW COMPARISON: None.' impression='No active cardiopulmonary disease. Electronically Signed By: [[PERSONALNAME] On: 04/30/2015 23:13'\n",
      "[3] → findings='Heart size appears normal. Lungs clear.' clinicaldata='Chest pain' ExamName='CHEST-PORTABLE' impression='Lungs clear'\n",
      "[16] → findings='Lungs/Pleura: No focal opacities evident. No pleural effusion. No pneumothorax. Mediastinum: Within exam limitations, the cardiomediastinal contour is normal. Other: None.' clinicaldata='Chest pain' ExamName='CHEST RADIOGRAPHY EXAM DATE: 02/10/2020 02:08 PM' impression='Normal single view chest'\n",
      "[22] → findings='Heart, lungs and vessels normal. No pneumothorax, pleural effusion or adenopathy. No significant bone abnormality.' clinicaldata='Cough.' ExamName='CHEST TWO VIEWS CLINICAL INFORMATION: Cough. COMPARISON: CHEST TWO VIEWS dated 06/10/2016' impression='Negative chest. Signed by: [[PERSONALNAME]]'\n",
      "[5] → findings='Lungs/Pleura: No focal opacities evident. No pleural effusion. No pneumothorax. Mediastinum: Within exam limitations, the cardiomediastinal contour is normal. Other: None.' clinicaldata='Chest pain' ExamName='EXAM: CHEST RADIOGRAPHY EXAM DATE: 08/11/2021 12:04 PM. CLINICAL HISTORY: Chest pain. COMPARISON: XR CHEST 1 VIEW AP/PA 06/15/2021 1:11 PM. TECHNIQUE: 1 view' impression='Normal single view chest'\n",
      "[2] → findings='Lungs/Pleura: No focal opacities evident. No pleural effusion. No pneumothorax. Normal volumes. Mediastinum: Heart and mediastinal contours are unremarkable. Other: None.' clinicaldata='CHEST PAIN' ExamName='EXAM: CHEST RADIOGRAPHY EXAM DATE: 12/13/2019 03:40 PM. TECHNIQUE: 2 views. COMPARISON: XR RIBS LEFT W PA CHEST 12/12/2019 1:57 PM.' impression='No acute cardiopulmonary process.'\n",
      "[10] → findings='Lungs/Pleura: No focal opacities evident. No pleural effusion. No pneumothorax. Normal volumes. Mediastinum: Heart and mediastinal contours are unremarkable. Other: None.' clinicaldata='Cough' ExamName='EXAM: CHEST RADIOGRAPHY EXAM DATE: 03/24/2020 02:44 PM. CLINICAL HISTORY: Cough. COMPARISON: None. TECHNIQUE: 2 views.' impression='Normal 2-view chest radiography.'\n",
      "[0] → findings='Lungs/Pleura: No focal opacities evident. No pleural effusion. No pneumothorax. Normal volumes. Mediastinum: Heart and mediastinal contours are unremarkable. Other: None.' clinicaldata='CLINICAL HISTORY: Cough.' ExamName='EXAM: CHEST RADIOGRAPHY EXAM DATE: 06/01/2019 08:30 PM. COMPARISON: None. TECHNIQUE: 2 views.' impression='Normal 2-view chest radiography.'\n",
      "[1] → findings='Lungs/Pleura: No focal opacities evident. No pleural effusion. No pneumothorax. Mediastinum: Within exam limitations, the cardiomediastinal contour is normal. Other: There is a right shoulder arthroplasty.' clinicaldata='CHEST PAIN' ExamName='CHEST RADIOGRAPHY EXAM DATE: 05/23/2020 12:03 PM. TECHNIQUE: 1 view. COMPARISON: XR CHEST 2V AP/PA AND LAT 11/24/2019 9:30 PM.' impression='No acute cardiopulmonary abnormality.'\n",
      "[26] → findings='Lungs/Pleura: No focal opacities evident. No pleural effusion. No pneumothorax. Mediastinum: Within exam limitations, the cardiomediastinal contour is normal. Other: None.' clinicaldata='SHORTNESS OF BREATH' ExamName='EXAM: CHEST RADIOGRAPHY EXAM DATE: 08/04/2019 02:13 PM. CLINICAL HISTORY: SHORTNESS OF BREATH. COMPARISON: None. TECHNIQUE: 1 view.' impression='Normal single view chest'\n",
      "[19] → findings='The cardiomediastinal silhouette is normal. No focal lung consolidation or pulmonary edema. No pneumothorax or appreciable pleural effusion. The bones are unremarkable.' clinicaldata='INDICATION: chest pain' ExamName='XR CHEST PORTABLE 1 VW EXAM DATE: 09/10/2019 8:25 PM TECHNIQUE: Portable frontal chest radiograph COMPARISON: None.' impression='No evidence of acute pulmonary process. Dictated by: [[PERSONALNAME]] MD on 09/10/2019 8:25 PM. Electronically signed by: [[PERSONALNAME]] MD on 09/10/2019 8:25 PM.'\n",
      "[18] → findings='The cardiac, mediastinal and hilar contours are normal. Pulmonary vascularity is unremarkable. Lungs are clear. No pleural fluid or pneumothorax is identified. Osseous structures are unremarkable.' clinicaldata='HISTORY: Chest pain' ExamName='EXAM: XR CHEST 1 VW, TECHNIQUE: 1 views. COMPARISON: None' impression='No acute cardiopulmonary findings. Dictated by: [[PERSONALNAME], MD Dictated date/time: 02/24/2019 4:58 PM CST Electronically Signed by: [[PERSONALNAME], MD Electronically Signed date/time: 02/24/2019 4:59 PM CST'\n",
      "[8] → findings='Lungs/Pleura: No focal opacities evident. No pleural effusion. No pneumothorax. Normal volumes. Mediastinum: Heart and mediastinal contours are unremarkable. Other: None.' clinicaldata='Chest pain.' ExamName='EXAM: CHEST RADIOGRAPHY EXAM DATE: 12/27/2019 03:18 PM. COMPARISON: XR CHEST PA AND LATERAL 09/05/2019 11:15 AM. TECHNIQUE: 2 views.' impression='Normal 2-view chest radiography.'\n"
     ]
    }
   ],
   "source": [
    "# ==================== ASYNC EXECUTION ====================\n",
    "async def process(index, text):\n",
    "    try:\n",
    "        response = await chain.ainvoke({\n",
    "            \"input\": text,\n",
    "            \"format_instructions\": format_instructions\n",
    "        })\n",
    "        print(f\"[{index}] →\", response)\n",
    "        return index, response\n",
    "    except Exception as e:\n",
    "        print(f\"[Error] Index {index}: {e}\")\n",
    "        return index, None\n",
    "\n",
    "async def run_all(text_list):\n",
    "    tasks = [process(i, text) for i, text in enumerate(text_list)]\n",
    "    return await asyncio.gather(*tasks)\n",
    "\n",
    "results = await run_all(texts)"
   ]
  },
  {
   "cell_type": "code",
   "execution_count": 6,
   "metadata": {},
   "outputs": [
    {
     "name": "stdout",
     "output_type": "stream",
     "text": [
      "✅ Saved extracted results to 'extracted_results.csv'\n"
     ]
    },
    {
     "name": "stderr",
     "output_type": "stream",
     "text": [
      "/var/folders/97/tj5167w92cqbx7z6t1shzr4w0000gn/T/ipykernel_9810/1140077446.py:2: PydanticDeprecatedSince20: The `dict` method is deprecated; use `model_dump` instead. Deprecated in Pydantic V2.0 to be removed in V3.0. See Pydantic V2 Migration Guide at https://errors.pydantic.dev/2.11/migration/\n",
      "  parsed_outputs = [res[1].dict() if res[1] else {} for res in results]\n"
     ]
    }
   ],
   "source": [
    "# ==================== SAVE OUTPUT ====================\n",
    "parsed_outputs = [res[1].dict() if res[1] else {} for res in results]\n",
    "output_df = pd.DataFrame(parsed_outputs)\n",
    "output_df.to_csv(\"extracted_results.csv\", index=False)\n",
    "print(\"✅ Saved extracted results to 'extracted_results.csv'\")"
   ]
  }
 ],
 "metadata": {
  "kernelspec": {
   "display_name": "nlp_env",
   "language": "python",
   "name": "python3"
  },
  "language_info": {
   "codemirror_mode": {
    "name": "ipython",
    "version": 3
   },
   "file_extension": ".py",
   "mimetype": "text/x-python",
   "name": "python",
   "nbconvert_exporter": "python",
   "pygments_lexer": "ipython3",
   "version": "3.10.18"
  }
 },
 "nbformat": 4,
 "nbformat_minor": 5
}
